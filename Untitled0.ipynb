{
  "nbformat": 4,
  "nbformat_minor": 0,
  "metadata": {
    "colab": {
      "provenance": [],
      "mount_file_id": "1IDewIbiQxdRwOEHyPYhZyA0OaCENbiOT",
      "authorship_tag": "ABX9TyPTDXC0eBacofQpPbR/Y4js",
      "include_colab_link": true
    },
    "kernelspec": {
      "name": "python3",
      "display_name": "Python 3"
    },
    "language_info": {
      "name": "python"
    }
  },
  "cells": [
    {
      "cell_type": "markdown",
      "metadata": {
        "id": "view-in-github",
        "colab_type": "text"
      },
      "source": [
        "<a href=\"https://colab.research.google.com/github/1337erik2288/-2/blob/master/Untitled0.ipynb\" target=\"_parent\"><img src=\"https://colab.research.google.com/assets/colab-badge.svg\" alt=\"Open In Colab\"/></a>"
      ]
    },
    {
      "cell_type": "code",
      "execution_count": 54,
      "metadata": {
        "id": "iskB4XKoWOX6"
      },
      "outputs": [],
      "source": [
        "import zipfile\n",
        "import os\n",
        "\n",
        "zip_path = '/content/drive/MyDrive/Colab Notebooks/Cyrillic.zip'\n",
        "extract_path = '/content/drive/MyDrive/Colab Notebooks/Cyrillic'  # Выберите каталог назначения для извлечения\n",
        "\n",
        "# Создайте каталог для извлечения, если его нет\n",
        "os.makedirs(extract_path, exist_ok=True)\n",
        "\n",
        "with zipfile.ZipFile(zip_path, 'r') as zip_ref:\n",
        "    zip_ref.extractall(extract_path)\n",
        "\n"
      ]
    },
    {
      "cell_type": "code",
      "source": [
        "import subprocess\n",
        "\n",
        "command = (\n",
        "    \"find /content/drive/MyDrive/Colab\\\\ Notebooks/Cyrillic/Cyrillic/ -mindepth 1 -maxdepth 1 -type d \"\n",
        "    \"\\\\( ! -name 'У*' ! -name 'Ф*' ! -name 'Х*' ! -name 'Ц*' ! -name 'Ч*' \"\n",
        "    \"! -name 'Ш*' ! -name 'Щ*' ! -name 'Ъ*' ! -name 'Ы*' ! -name 'Ь*' \\\\) \"\n",
        "    \"-exec rm -r {} +\"\n",
        ")\n",
        "\n",
        "subprocess.run(command, shell=True)\n"
      ],
      "metadata": {
        "colab": {
          "base_uri": "https://localhost:8080/"
        },
        "id": "0s5D5S9Ogvu6",
        "outputId": "3366d751-37d0-4226-a573-ee0cdc94a22f"
      },
      "execution_count": 55,
      "outputs": [
        {
          "output_type": "execute_result",
          "data": {
            "text/plain": [
              "CompletedProcess(args=\"find /content/drive/MyDrive/Colab\\\\ Notebooks/Cyrillic/Cyrillic/ -mindepth 1 -maxdepth 1 -type d \\\\( ! -name 'У*' ! -name 'Ф*' ! -name 'Х*' ! -name 'Ц*' ! -name 'Ч*' ! -name 'Ш*' ! -name 'Щ*' ! -name 'Ъ*' ! -name 'Ы*' ! -name 'Ь*' \\\\) -exec rm -r {} +\", returncode=0)"
            ]
          },
          "metadata": {},
          "execution_count": 55
        }
      ]
    },
    {
      "cell_type": "code",
      "source": [
        "import math\n",
        "import random # библиотека функций для генерации случайных значений\n",
        "# Сторонние библиотеки\n",
        "import numpy as np # библиотека функций для работы с матрицами\n",
        "\"\"\" ---Раздел описаний--- \"\"\"\n",
        "\"\"\" --Описание класса Network--\"\"\"\n",
        "class Network(object):\n",
        "    def __init__(self, sizes):\n",
        "        self.num_layers = len(sizes)\n",
        "        self.sizes = sizes\n",
        "        self.biases = [np.random.randn(y, 1)*math.sqrt(2/y) for y in sizes[1:]]\n",
        "        self.weights = [np.random.randn(y, x)*math.sqrt(2/y) for x, y in zip(sizes[:-1], sizes[1:])]\n",
        "    def sigmoid(self, z):\n",
        "      return 1 / (1 + np.exp(-z))\n",
        "\n",
        "    def feedforward(self, a):\n",
        "        for b, w in zip(self.biases, self.weights):\n",
        "            a = self.relu(np.dot(w, a) + b)\n",
        "        return a\n",
        "    def relu(self, z):\n",
        "        return np.maximum(0, z)\n",
        "    def SGD( # Стохастический градиентный спуск\n",
        "        self # указатель на объект класса\n",
        "        , training_data # обучающая выборка\n",
        "        , epochs # количество эпох обучения\n",
        "        , mini_batch_size # размер подвыборки\n",
        "        , eta # скорость обучения\n",
        "        , test_data # тестирующая выборка\n",
        "        ):\n",
        "        test_data = list(test_data) # создаем список объектов тестирующей выборки\n",
        "        n_test = len(test_data) # вычисляем длину тестирующей выборки\n",
        "        training_data = list(training_data) # создаем список объектов обучающей выборки\n",
        "        n = len(training_data) # вычисляем размер обучающей выборки\n",
        "        for j in range(epochs): # цикл по эпохам\n",
        "            random.shuffle(training_data) # перемешиваем элементы обучающей выборки\n",
        "            mini_batches = [training_data[k:k+mini_batch_size] for k in range(0, n, mini_batch_size)] # создаем подвыборки\n",
        "            for mini_batch in mini_batches: # цикл по подвыборкам\n",
        "              #print(len(mini_batch[0][0]))\n",
        "              self.update_mini_batch(mini_batch, eta) # один шаг градиентного спуска\n",
        "            print (\"Epoch {0}: {1} / {2}\".format(j, self.evaluate(test_data), n_test)) # смотрим прогресс в обучении\n",
        "    def update_mini_batch( # Шаг градиентного спуска\n",
        "        self # указатель на объект класса\n",
        "        , mini_batch # подвыборка\n",
        "        , eta # скорость обучения\n",
        "        ):\n",
        "        nabla_b = [np.zeros(b.shape) for b in self.biases] # список градиентов dC/db для каждого слоя (первоначально заполняются нулями)\n",
        "        nabla_w = [np.zeros(w.shape) for w in self.weights] # список градиентов dC/dw для каждого слоя (первоначально заполняются нулями)\n",
        "        for x, y in mini_batch:\n",
        "            delta_nabla_b, delta_nabla_w = self.backprop(x, y) # послойно вычисляем градиенты dC/db и dC/dw для текущего прецедента (x, y)\n",
        "            nabla_b = [nb+dnb for nb, dnb in zip(nabla_b, delta_nabla_b)] # суммируем градиенты dC/db для различных прецедентов текущей подвыборки\n",
        "            nabla_w = [nw+dnw for nw, dnw in zip(nabla_w, delta_nabla_w)] # суммируем градиенты dC/dw для различных прецедентов текущей подвыборки\n",
        "        self.weights = [w-(eta/len(mini_batch))*nw for w, nw in zip(self.weights, nabla_w)] # обновляем все веса w нейронной сети\n",
        "        self.biases = [b-(eta/len(mini_batch))*nb for b, nb in zip(self.biases, nabla_b)] # обновляем все смещения b нейронной сети\n",
        "    def backprop( # Алгоритм обратного распространения\n",
        "        self # указатель на объект класса\n",
        "      ,x # вектор входных сигналов ,\n",
        "      ,y # ожидаемый вектор выходных сигналов\n",
        "      ):\n",
        "        nabla_b = [np.zeros(b.shape) for b in self.biases] # список градиентов dC/db для каждого слоя (первоначально заполняются нулями)\n",
        "        nabla_w = [np.zeros(w.shape) for w in self.weights] # список градиентов dC/dw для каждого слоя (первоначально заполняются нулями)\n",
        "        # определение переменных\n",
        "        activation = x # выходные сигналы слоя (первоначально соответствует выходным сигналам 1-го слоя или входным сигналам сети)\n",
        "        activations = [x] # список выходных сигналов по всем слоям (первоначально содержит только выходные сигналы 1-го слоя)\n",
        "        zs = [] # список активационных потенциалов по всем слоям (первоначально пуст)\n",
        "        # прямое распространение\n",
        "        for b, w in zip(self.biases, self.weights):\n",
        "            z = np.dot(w, activation)+b # считаем активационные потенциалы текущего слоя\n",
        "            zs.append(z) # добавляем элемент (активационные потенциалы слоя) в конец списка\n",
        "            activation = self.relu(z) # считаем выходные сигналы текущего слоя, применяя сигмоидальную функцию активации к активационным потенциалам слоя\n",
        "            activations.append(activation) # добавляем элемент (выходные сигналы слоя) в конец списка\n",
        "  # обратное распространение\n",
        "        delta = self.cost_derivative(activations[-1], y) * self.sigmoid_prime(zs[-1]) # считаем меру влияния нейронов выходного слоя L на величину ошибки (BP1)\n",
        "        nabla_b[-1] = delta # градиент dC/db для слоя L (BP3)\n",
        "        nabla_w[-1] = np.dot(delta, activations[-2].transpose()) # градиент dC/dw для слоя L (BP4)\n",
        "        for l in range(2, self.num_layers):\n",
        "          z = zs[-l] # активационные потенциалы l-го слоя (двигаемся по списку справа налево)\n",
        "          sp = self.sigmoid_prime(z) # считаем сигмоидальную функцию от активационных потенциалов l-го слоя\n",
        "          delta = np.dot(self.weights[-l+1].transpose(), delta) * sp # считаем меру влияния нейронов l-го слоя на величину ошибки (BP2)\n",
        "          nabla_b[-l] = delta # градиент dC/db для l-го слоя (BP3)\n",
        "          nabla_w[-l] = np.dot(delta, activations[-l-1].transpose())# градиент dC/dw для l-го слоя (BP4)\n",
        "        return (nabla_b, nabla_w)\n",
        "    def evaluate(self, test_data):\n",
        "      test_results = [(np.argmax(self.feedforward(x)), y) for (x, y) in test_data]\n",
        "      correct_predictions = sum(int(x == y) for (x, y) in test_results)\n",
        "      total_tests = len(test_data)\n",
        "      accuracy = correct_predictions / total_tests\n",
        "      return accuracy\n",
        "    def cost_derivative(self, output_activations, y): # Вычисление частных производных стоимостной функции по выходным сигналам последнего слоя\n",
        "      return (output_activations-y)\n",
        "    def sigmoid_prime(self,z):# Производная сигмоидальной функции\n",
        "      return 1/np.cosh(z)**2\n",
        "    # def forward_propagate(self, row):\n",
        "    #     activation = row\n",
        "    #     for b, w in zip(self.biases, self.weights):\n",
        "    #         z = np.dot(w, activation)+b# zs.append(z)\n",
        "    #         activation = self.sigmoid(z)\n",
        "    #         activations.append(activation)\n",
        "\t  #     activation = activations\n",
        "    #     activations=[]\n",
        "\t  #   return activation"
      ],
      "metadata": {
        "id": "mNQW-ND4exSu"
      },
      "execution_count": 56,
      "outputs": []
    },
    {
      "cell_type": "code",
      "source": [
        "import random\n",
        "import numpy as np\n",
        "import matplotlib.pyplot as plt\n",
        "import tensorflow as tf\n",
        "from PIL import Image\n",
        "\n",
        "image_size = (64, 64)\n",
        "dataset = tf.keras.utils.image_dataset_from_directory('/content/drive/MyDrive/Colab Notebooks/Cyrillic/Cyrillic',\n",
        "                                       seed=42,\n",
        "                                       color_mode=\"rgba\",\n",
        "                                       batch_size=1,\n",
        "                                       image_size=image_size)\n",
        "\n",
        "class_names = dataset.class_names\n",
        "\n"
      ],
      "metadata": {
        "id": "jHeTWmWCawQa",
        "colab": {
          "base_uri": "https://localhost:8080/"
        },
        "outputId": "03d2a604-5086-47bd-c351-ad0d7e1ea295"
      },
      "execution_count": 57,
      "outputs": [
        {
          "output_type": "stream",
          "name": "stdout",
          "text": [
            "Found 4590 files belonging to 10 classes.\n"
          ]
        }
      ]
    },
    {
      "cell_type": "code",
      "source": [
        "###############################\n",
        "data = []\n",
        "Y = []\n",
        "for images, labels in dataset.take(4549):\n",
        "  for i in range(1):\n",
        "    img = Image.fromarray(images[i].numpy().astype(\"uint8\").squeeze())\n",
        "    img = img.convert(\"LA\")\n",
        "    #img = images[i].numpy().astype(\"uint8\").squeeze().convert(\"LA\")\n",
        "    imgData = np.asarray(img)\n",
        "    #print(imgData[0][0][0])\n",
        "\n",
        "    imgData_A=[]\n",
        "\n",
        "    for row in imgData:\n",
        "        imgData_A.extend(row[:,1])\n",
        "\n",
        "    imgData_A=np.reshape(imgData_A,-1)\n",
        "\n",
        "    #Pixels higher than this will be 1. Otherwise 0.\n",
        "    THRESHOLD_VALUE=0\n",
        "    thresholdedData=0\n",
        "\n",
        "    thresholdedData = (imgData_A <= THRESHOLD_VALUE) * 1.0\n",
        "\n",
        "    unique, counts = np.unique(thresholdedData, return_counts=True)\n",
        "    result = np.column_stack((unique, counts))\n",
        "\n",
        "    thresholdedData=np.reshape(thresholdedData,(64,64))\n",
        "\n",
        "    data.append(thresholdedData)\n",
        "    Y.append([class_names[labels[i]]])\n",
        "\n"
      ],
      "metadata": {
        "id": "mBp3587YhG5m"
      },
      "execution_count": 58,
      "outputs": []
    },
    {
      "cell_type": "code",
      "source": [
        "#############################################\n",
        "for i in range(len(data)):\n",
        "  for j in range(len(data[i])):\n",
        "    for z in range(len(data[i][j])):\n",
        "      if (data[i][j][z] == 1):\n",
        "        data[i][j][z] = 0\n",
        "      else:\n",
        "        data[i][j][z] = 1\n"
      ],
      "metadata": {
        "id": "mYSDX11ohaUI"
      },
      "execution_count": 59,
      "outputs": []
    },
    {
      "cell_type": "code",
      "source": [
        "############################################\n",
        "plt.figure(figsize=(8,8))\n",
        "for i in range(9):\n",
        "  ax = plt.subplot(3,3,i+1)\n",
        "  plt.imshow(data[i])\n",
        "  plt.title(Y[i])\n",
        "  plt.axis('off')\n"
      ],
      "metadata": {
        "colab": {
          "base_uri": "https://localhost:8080/",
          "height": 675
        },
        "id": "8JvPvxvmhdR-",
        "outputId": "5f02e8df-a622-4045-981b-895810fa1057"
      },
      "execution_count": 60,
      "outputs": [
        {
          "output_type": "display_data",
          "data": {
            "text/plain": [
              "<Figure size 800x800 with 9 Axes>"
            ],
            "image/png": "[encoded data removed]"
          },
          "metadata": {}
        }
      ]
    },
    {
      "cell_type": "code",
      "source": [
        "#############################################\n",
        "s = np.array(data.copy())\n",
        "vec_data = []\n",
        "for i in range(len(data)):\n",
        "  vec_data.append(s[i].reshape(-1,1))\n"
      ],
      "metadata": {
        "id": "rf4OYhAwhgxW"
      },
      "execution_count": 61,
      "outputs": []
    },
    {
      "cell_type": "code",
      "source": [
        "#############################################\n",
        "from sklearn.model_selection import train_test_split\n",
        "X_train, X_test, y_train, y_test = train_test_split(vec_data, Y, test_size=0.4)\n",
        "\n"
      ],
      "metadata": {
        "id": "0DfsEMAChi2f"
      },
      "execution_count": 62,
      "outputs": []
    },
    {
      "cell_type": "code",
      "source": [
        "#############################################\n",
        "X_train_new = []\n",
        "for i in range(len(X_train)):\n",
        "  Vec = []\n",
        "  for j in range(len(X_train[i])):\n",
        "    Vec.append(X_train[i][j][0])\n",
        "  X_train_new.append(Vec)\n",
        "\n",
        "X_test_new = []\n",
        "for i in range(len(X_test)):\n",
        "  Vec = []\n",
        "  for j in range(len(X_test[i])):\n",
        "    Vec.append(X_test[i][j][0])\n",
        "  X_test_new.append(Vec)\n",
        "\n",
        "X_train = X_train_new.copy()\n",
        "X_test = X_test_new.copy()\n"
      ],
      "metadata": {
        "id": "2E12w5-Mhk1V"
      },
      "execution_count": 63,
      "outputs": []
    },
    {
      "cell_type": "code",
      "source": [
        "###############################################\n",
        "class_mapping = {'У': 0, 'Ф': 1, 'Х': 2, 'Ц': 3, 'Ч': 4, 'Ш': 5, 'Щ': 6, 'Ъ': 7, 'Ы': 8, 'Ь': 9}\n",
        "\n",
        "# Add the missing character\n",
        "class_mapping = {'У': 0, 'Ф': 1, 'Х': 2, 'Ц': 3, 'Ч': 4, 'Ш': 5, 'Щ': 6, 'Ъ': 7, 'Ы': 8, 'Ь': 9}\n",
        "\n",
        "# Convert class labels to integers in y_train and y_test\n",
        "y_train = [[class_mapping.get(class_label, class_label) for class_label in sample] for sample in y_train]\n",
        "y_test = [[class_mapping.get(class_label, class_label) for class_label in sample] for sample in y_test]\n",
        "\n",
        "y_train = np.array(y_train)\n",
        "y_test = np.array(y_test)\n",
        "\n"
      ],
      "metadata": {
        "id": "w7ql57i3hnKo"
      },
      "execution_count": 64,
      "outputs": []
    },
    {
      "cell_type": "code",
      "source": [
        "############################\n",
        "\n",
        "print(y_test)\n",
        "def vectorized_result(j):\n",
        "    e = np.zeros((10, 1))\n",
        "    try:\n",
        "        e[j] = 1.0\n",
        "    except IndexError:\n",
        "        print(f\"Error: Index {j} is out of bounds for axis 0 with size 10.\")\n",
        "        print(\"Make sure your labels are in the expected range (0 to 9).\")\n",
        "    return e\n",
        "\n",
        "\n",
        "\n",
        "def load_data_wrapper(n):\n",
        "  training_inputs = [((np.reshape(x, (n,1)) > 0) * 1.0) for x in (X_train_new)]\n",
        "  training_results = [vectorized_result(y) for y in (y_train)]\n",
        "  training_data = list (zip(training_inputs, training_results))\n",
        "  test_inputs = [((np.reshape(x, (n,1)) > 0) * 1.0) for x in (X_test_new)]\n",
        "  test_data = list(zip(test_inputs,y_test))\n",
        "  return (training_data, test_data)\n",
        "\n",
        "training_data, test_data = load_data_wrapper(4096)"
      ],
      "metadata": {
        "colab": {
          "base_uri": "https://localhost:8080/"
        },
        "id": "sBmBkRtOhpkF",
        "outputId": "ae09e75b-2df3-437e-f25e-1609cc90dcd5"
      },
      "execution_count": 65,
      "outputs": [
        {
          "output_type": "stream",
          "name": "stdout",
          "text": [
            "[[2]\n",
            " [5]\n",
            " [4]\n",
            " ...\n",
            " [6]\n",
            " [7]\n",
            " [7]]\n"
          ]
        }
      ]
    },
    {
      "cell_type": "code",
      "source": [
        "import matplotlib.pyplot as plt\n",
        "training_data,test_data = load_data_wrapper(4096)\n",
        "lll8=np.reshape(training_data[444][0],(64,64))\n",
        "plt.imshow(lll8)\n",
        "plt.show()"
      ],
      "metadata": {
        "id": "qA4WKJqMlkDJ",
        "colab": {
          "base_uri": "https://localhost:8080/",
          "height": 432
        },
        "outputId": "3d6278b5-4d35-4d3a-807e-b915c7daa7e2"
      },
      "execution_count": 66,
      "outputs": [
        {
          "output_type": "display_data",
          "data": {
            "text/plain": [
              "<Figure size 640x480 with 1 Axes>"
            ],
            "image/png": "[encoded data removed]"
          },
          "metadata": {}
        }
      ]
    },
    {
      "cell_type": "code",
      "source": [
        "import math\n",
        "net = Network([4096, 30,30, 10])\n",
        "\"\"\" Вывод результата на экран: \"\"\"\n",
        "print('Сеть net:')\n",
        "print('Количетво слоев:', net.num_layers)\n",
        "for i in range(net.num_layers):\n",
        "    print('Количество нейронов в слое', i,':',net.sizes[i])\n",
        "for i in range(net.num_layers-1):\n",
        "    print('W_',i+1,':')\n",
        "    print(np.round(net.weights[i],2))\n",
        "    print('b_',i+1,':')\n",
        "    print(np.round(net.biases[i],2))"
      ],
      "metadata": {
        "colab": {
          "base_uri": "https://localhost:8080/"
        },
        "id": "w-SL1D9zh4m6",
        "outputId": "595837f4-de29-4203-fa9a-8b19fd11430b"
      },
      "execution_count": 67,
      "outputs": [
        {
          "output_type": "stream",
          "name": "stdout",
          "text": [
            "Сеть net:\n",
            "Количетво слоев: 4\n",
            "Количество нейронов в слое 0 : 4096\n",
            "Количество нейронов в слое 1 : 30\n",
            "Количество нейронов в слое 2 : 30\n",
            "Количество нейронов в слое 3 : 10\n",
            "W_ 1 :\n",
            "[[-0.26  0.19  0.14 ...  0.6  -0.27  0.16]\n",
            " [ 0.24 -0.4  -0.2  ...  0.33 -0.02  0.34]\n",
            " [-0.01 -0.3   0.1  ...  0.22  0.06  0.08]\n",
            " ...\n",
            " [-0.07 -0.32 -0.36 ...  0.28 -0.42  0.48]\n",
            " [-0.16 -0.    0.06 ...  0.26  0.05  0.17]\n",
            " [-0.22 -0.31  0.08 ...  0.16 -0.41 -0.16]]\n",
            "b_ 1 :\n",
            "[[ 0.28]\n",
            " [-0.4 ]\n",
            " [-0.04]\n",
            " [ 0.05]\n",
            " [-0.01]\n",
            " [-0.16]\n",
            " [ 0.03]\n",
            " [-0.03]\n",
            " [ 0.12]\n",
            " [ 0.42]\n",
            " [-0.29]\n",
            " [ 0.1 ]\n",
            " [ 0.03]\n",
            " [ 0.11]\n",
            " [ 0.03]\n",
            " [ 0.02]\n",
            " [ 0.32]\n",
            " [ 0.31]\n",
            " [-0.38]\n",
            " [-0.03]\n",
            " [-0.21]\n",
            " [ 0.15]\n",
            " [ 0.06]\n",
            " [-0.21]\n",
            " [-0.19]\n",
            " [-0.14]\n",
            " [ 0.05]\n",
            " [-0.06]\n",
            " [ 0.02]\n",
            " [-0.07]]\n",
            "W_ 2 :\n",
            "[[-0.28 -0.21  0.22 -0.2   0.03 -0.14 -0.01 -0.25 -0.06  0.04 -0.03  0.3\n",
            "   0.47  0.36 -0.02  0.09  0.32  0.67 -0.1  -0.1   0.15 -0.13 -0.29  0.02\n",
            "  -0.39 -0.22  0.03 -0.28 -0.05  0.51]\n",
            " [-0.13  0.34 -0.14  0.41  0.07  0.23  0.14  0.1   0.13 -0.32  0.17  0.01\n",
            "   0.17 -0.08  0.08 -0.04 -0.   -0.3  -0.15  0.24 -0.03 -0.26  0.13 -0.03\n",
            "  -0.02 -0.16  0.04  0.01 -0.25  0.  ]\n",
            " [ 0.13 -0.39  0.08  0.39 -0.26 -0.26 -0.19  0.25  0.25 -0.    0.18 -0.74\n",
            "  -0.11 -0.06  0.27  0.18  0.13  0.08  0.09  0.12  0.06 -0.3   0.03  0.14\n",
            "   0.33 -0.08 -0.08 -0.2  -0.28 -0.1 ]\n",
            " [ 0.    0.31 -0.25  0.08 -0.09 -0.35  0.81  0.07 -0.11 -0.33  0.37  0.23\n",
            "  -0.1   0.37 -0.06 -0.27  0.01 -0.34 -0.04 -0.19 -0.26  0.1   0.63 -0.61\n",
            "  -0.1   0.22  0.   -0.3  -0.41  0.15]\n",
            " [ 0.48  0.18 -0.19 -0.1   0.03 -0.17  0.12 -0.08 -0.47  0.22  0.31 -0.3\n",
            "  -0.25  0.13 -0.1  -0.03  0.12  0.44 -0.27  0.07 -0.17 -0.22  0.3  -0.25\n",
            "   0.19 -0.3  -0.08  0.18  0.06  0.13]\n",
            " [ 0.28  0.21  0.17  0.19  0.01  0.21 -0.18  0.02  0.16  0.2   0.07 -0.02\n",
            "   0.33  0.56  0.1  -0.42 -0.18 -0.01 -0.17 -0.11  0.38 -0.17  0.04 -0.43\n",
            "  -0.02  0.27  0.01  0.03  0.01  0.03]\n",
            " [ 0.48 -0.06 -0.44 -0.17  0.32  0.13  0.05 -0.64 -0.3  -0.04  0.17 -0.05\n",
            "   0.23  0.2  -0.17  0.22 -0.1   0.12  0.23  0.29 -0.26 -0.3   0.13  0.32\n",
            "  -0.1  -0.37 -0.21  0.2   0.08  0.17]\n",
            " [-0.22 -0.08  0.12 -0.12 -0.   -0.51 -0.21 -0.36  0.03  0.41 -0.   -0.21\n",
            "  -0.14  0.23 -0.1   0.39  0.16  0.31 -0.16 -0.21 -0.15  0.01  0.49 -0.5\n",
            "   0.25  0.25 -0.22  0.36  0.08  0.12]\n",
            " [ 0.55 -0.1  -0.14  0.35  0.19 -0.13  0.08 -0.03  0.33 -0.06 -0.06  0.05\n",
            "   0.01 -0.18 -0.18 -0.14  0.21 -0.5   0.26  0.22 -0.02 -0.12  0.18 -0.06\n",
            "   0.06  0.04  0.12 -0.67 -0.05 -0.24]\n",
            " [ 0.24  0.01  0.26 -0.2   0.11  0.08  0.13  0.5  -0.22 -0.12  0.06  0.11\n",
            "   0.16  0.01  0.14  0.43 -0.29  0.01  0.31 -0.04  0.4   0.   -0.17 -0.32\n",
            "  -0.08  0.14 -0.01  0.12  0.17  0.28]\n",
            " [-0.01 -0.16 -0.1   0.5   0.26 -0.47  0.07 -0.24  0.04 -0.2  -0.37 -0.29\n",
            "  -0.03  0.57  0.02 -0.41 -0.4   0.2   0.33 -0.54  0.13  0.03  0.14 -0.22\n",
            "  -0.09 -0.   -0.3   0.13  0.26  0.06]\n",
            " [-0.25  0.33 -0.07  0.19  0.59 -0.17  0.1   0.06 -0.56 -0.07 -0.01  0.27\n",
            "   0.04 -0.11  0.04 -0.04 -0.1  -0.36  0.27 -0.07 -0.14 -0.06  0.26  0.33\n",
            "  -0.49  0.12 -0.33  0.17 -0.23 -0.12]\n",
            " [ 0.13  0.19 -0.03 -0.04 -0.31 -0.12 -0.09 -0.26 -0.17  0.12 -0.16  0.08\n",
            "   0.28 -0.05  0.3  -0.14 -0.13  0.13 -0.42 -0.27 -0.12 -0.01 -0.13 -0.17\n",
            "  -0.07 -0.05  0.03  0.24 -0.5  -0.35]\n",
            " [-0.48 -0.21  0.52 -0.2  -0.02  0.39 -0.04 -0.11 -0.48  0.47 -0.21  0.31\n",
            "   0.09  0.11  0.26  0.17  0.2   0.17  0.18  0.02 -0.25 -0.06  0.06  0.11\n",
            "   0.01 -0.19 -0.09  0.11 -0.26 -0.09]\n",
            " [ 0.17 -0.05  0.09 -0.45 -0.16 -0.11  0.08  0.29 -0.18  0.11  0.24 -0.26\n",
            "  -0.3   0.49  0.13 -0.1   0.03  0.1  -0.02 -0.25  0.31 -0.06 -0.23 -0.36\n",
            "  -0.4   0.09  0.4  -0.25  0.5   0.06]\n",
            " [ 0.04 -0.59 -0.2   0.2   0.6  -0.64  0.54 -0.22  0.11 -0.3  -0.17  0.03\n",
            "   0.6  -0.21  0.05 -0.05 -0.38 -0.14 -0.06  0.64  0.24  0.16  0.37 -0.24\n",
            "   0.04 -0.06 -0.45 -0.1   0.57  0.46]\n",
            " [-0.38 -0.1   0.35 -0.14  0.1  -0.02 -0.21  0.06  0.1  -0.01 -0.25  0.02\n",
            "  -0.01  0.24 -0.11 -0.11  0.23  0.16  0.16  0.11 -0.08  0.34  0.17  0.34\n",
            "   0.11  0.68 -0.07  0.2  -0.01 -0.24]\n",
            " [-0.32  0.06  0.11 -0.1   0.02  0.1   0.26  0.07 -0.27  0.07  0.25  0.03\n",
            "   0.1  -0.38  0.11 -0.04  0.15  0.13  0.11 -0.27 -0.43  0.21  0.21  0.11\n",
            "   0.1  -0.14 -0.06 -0.11  0.04  0.16]\n",
            " [-0.08  0.17  0.02  0.21  0.32  0.4   0.25 -0.09  0.5  -0.49 -0.22  0.44\n",
            "  -0.39 -0.31  0.09  0.27  0.38 -0.06  0.02 -0.14 -0.02 -0.1   0.05 -0.22\n",
            "  -0.    0.07  0.01  0.1   0.12 -0.29]\n",
            " [ 0.26 -0.16  0.07 -0.13  0.08 -0.13  0.03  0.1  -0.16 -0.01  0.29  0.16\n",
            "  -0.14 -0.   -0.1   0.02 -0.15  0.42  0.37  0.14 -0.31  0.22 -0.07 -0.15\n",
            "   0.48  0.06  0.08 -0.34 -0.34 -0.41]\n",
            " [-0.03  0.04 -0.1  -0.28 -0.24 -0.53  0.11 -0.34 -0.22  0.14  0.21  0.14\n",
            "  -0.02 -0.06  0.25  0.01  0.36 -0.24  0.16 -0.11 -0.36 -0.32  0.14 -0.31\n",
            "   0.29  0.29  0.15 -0.33  0.36  0.31]\n",
            " [ 0.01 -0.1   0.03  0.38 -0.07  0.07  0.06 -0.08  0.1  -0.44  0.3  -0.18\n",
            "   0.36 -0.41 -0.09 -0.22 -0.38  0.26  0.03 -0.04  0.38 -0.2   0.02  0.16\n",
            "  -0.07 -0.24 -0.04  0.59  0.2  -0.17]\n",
            " [-0.27  0.1  -0.12  0.57 -0.2   0.16  0.68 -0.26  0.18 -0.03 -0.19 -0.34\n",
            "   0.17  0.64  0.27  0.04 -0.17 -0.34  0.47 -0.01  0.16 -0.02  0.54  0.12\n",
            "  -0.12  0.15  0.17 -0.05 -0.29 -0.14]\n",
            " [ 0.2  -0.12 -0.2   0.28  0.04  0.27 -0.66  0.48  0.18  0.11 -0.22  0.37\n",
            "  -0.09 -0.42  0.04  0.26  0.47 -0.55  0.03  0.33  0.45  0.33 -0.18  0.05\n",
            "  -0.12  0.11 -0.32 -0.25 -0.51 -0.23]\n",
            " [-0.48 -0.34  0.27  0.16 -0.12 -0.11  0.04  0.06 -0.52 -0.2   0.05 -0.05\n",
            "  -0.28  0.04 -0.13  0.28  0.06 -0.18 -0.09  0.01  0.38  0.48  0.27  0.11\n",
            "  -0.39 -0.35  0.13 -0.09  0.44  0.32]\n",
            " [-0.24  0.08 -0.01 -0.09 -0.01 -0.21  0.05  0.17 -0.21  0.27 -0.03  0.05\n",
            "  -0.15 -0.04  0.17  0.31 -0.32 -0.26  0.22 -0.23  0.56  0.1   0.11  0.32\n",
            "  -0.08  0.34 -0.15 -0.2   0.01  0.09]\n",
            " [ 0.09 -0.05  0.3   0.28  0.14 -0.49  0.15  0.15 -0.16 -0.36  0.61 -0.42\n",
            "  -0.2   0.49  0.12 -0.1  -0.27  0.22  0.1   0.42 -0.24 -0.2   0.12 -0.28\n",
            "  -0.04  0.2  -0.39  0.16  0.2   0.07]\n",
            " [-0.52  0.4  -0.17 -0.04 -0.15 -0.01 -0.01  0.27 -0.06 -0.44 -0.24  0.14\n",
            "  -0.11 -0.23 -0.24  0.17 -0.17  0.11 -0.42 -0.24 -0.08 -0.44 -0.11 -0.13\n",
            "   0.2  -0.14  0.21 -0.08  0.18  0.05]\n",
            " [-0.06  0.19  0.52 -0.4   0.1  -0.3  -0.4  -0.06 -0.3   0.33  0.19  0.3\n",
            "   0.07  0.01  0.26 -0.06 -0.35  0.05  0.15 -0.19  0.4  -0.03  0.64 -0.32\n",
            "   0.21 -0.1   0.28  0.43  0.47  0.1 ]\n",
            " [-0.1   0.16 -0.17  0.11 -0.07  0.01 -0.02 -0.4   0.28  0.12  0.09  0.24\n",
            "  -0.25  0.06 -0.01 -0.19 -0.28 -0.17 -0.27 -0.02 -0.23 -0.23 -0.03 -0.14\n",
            "   0.29  0.32 -0.27  0.1  -0.01 -0.1 ]]\n",
            "b_ 2 :\n",
            "[[-0.25]\n",
            " [ 0.34]\n",
            " [-0.22]\n",
            " [-0.24]\n",
            " [-0.06]\n",
            " [-0.29]\n",
            " [ 0.12]\n",
            " [-0.02]\n",
            " [ 0.06]\n",
            " [ 0.09]\n",
            " [ 0.06]\n",
            " [ 0.49]\n",
            " [ 0.07]\n",
            " [ 0.02]\n",
            " [ 0.2 ]\n",
            " [-0.39]\n",
            " [ 0.09]\n",
            " [-0.11]\n",
            " [ 0.16]\n",
            " [-0.43]\n",
            " [ 0.3 ]\n",
            " [-0.22]\n",
            " [ 0.08]\n",
            " [ 0.18]\n",
            " [-0.15]\n",
            " [-0.15]\n",
            " [-0.13]\n",
            " [ 0.34]\n",
            " [-0.27]\n",
            " [-0.18]]\n",
            "W_ 3 :\n",
            "[[-0.79 -0.4  -0.36  0.21 -0.49 -0.54  0.56 -0.17 -0.04 -0.31 -0.65  0.15\n",
            "  -0.45 -0.18  0.96  0.23 -0.53  0.49 -0.4   0.23  0.1   1.35  0.04 -1.01\n",
            "  -0.17 -0.98  0.09 -0.14 -0.02 -0.12]\n",
            " [ 0.39  0.55 -0.19  0.15  0.76  0.3   0.45  0.04  0.55  0.41 -0.54  0.04\n",
            "  -0.12  0.19 -0.18 -0.13 -0.82  0.69 -0.44 -0.62  0.52 -0.5  -0.33  0.02\n",
            "  -0.29 -0.43 -0.35  0.77 -0.12 -0.18]\n",
            " [-0.26  0.24  0.08  0.61  0.81 -0.15  0.48 -0.26 -0.7   0.1   0.08  0.69\n",
            "  -0.22 -0.11 -0.69  0.24 -0.15 -0.32 -0.9   0.62  0.04 -0.62  0.25 -1.\n",
            "   0.81 -0.    0.25  0.11 -1.33 -0.51]\n",
            " [ 0.04  0.21  0.21 -0.75  0.8  -0.5  -0.48 -0.63  0.33 -0.12 -0.1  -0.54\n",
            "  -0.1  -0.42  0.99  0.18 -0.17  1.05 -0.33  0.18 -0.39  0.79 -0.24  0.14\n",
            "   0.62  0.53 -0.31  0.1   0.06 -0.17]\n",
            " [-0.82  0.48 -0.15  0.06 -0.72 -0.18  0.38 -0.81  0.53  0.78 -0.8  -0.11\n",
            "   0.62 -0.13  1.31  0.33  0.28  0.62 -0.25 -0.33  0.06  0.24  0.28  0.62\n",
            "   1.37  0.5   0.58 -0.09  0.43  0.15]\n",
            " [-0.26 -0.06  0.04  0.56 -0.47 -0.46  0.58 -0.01  0.57  0.38  0.29 -0.19\n",
            "  -0.47  0.56  0.12 -0.01 -0.38  0.43  0.45 -0.07 -0.08 -0.04  0.22  0.71\n",
            "  -0.34 -0.29  0.19 -0.07 -0.76  0.58]\n",
            " [-0.9  -1.15 -0.39  0.42 -0.03  0.08 -0.2  -0.06  0.11 -0.53 -0.04 -0.59\n",
            "  -0.04 -0.58  0.24  0.23  0.26  0.91 -0.09 -0.3   0.06 -0.42 -0.52  0.21\n",
            "  -0.03  0.16 -0.4  -0.29 -0.18 -0.09]\n",
            " [-0.03  0.04 -0.07  0.17  0.3  -0.28 -0.28 -0.34 -0.77  0.1  -0.24 -0.72\n",
            "  -1.   -0.77  0.29 -0.1  -0.43 -0.95 -0.32  0.18 -1.19 -0.21  0.12  0.01\n",
            "  -0.14  0.69 -0.03  0.62 -0.04 -0.01]\n",
            " [-0.46  0.09  0.03 -0.53  0.12 -0.33  0.01  0.18  0.17 -0.33 -0.25 -0.52\n",
            "  -0.11  0.24  0.27  0.16  0.1  -0.31 -0.35  0.01  0.58  0.24  0.9  -0.6\n",
            "  -0.1   0.26  0.48 -0.45  0.47 -0.14]\n",
            " [-0.58 -0.74  0.22  0.72  0.03 -0.15  0.36  0.01  0.57  0.22 -0.1  -0.11\n",
            "   0.02  0.99 -0.13 -0.04  0.56 -0.74  0.83  0.89  0.17 -0.17 -0.03  0.01\n",
            "  -0.12 -0.01  0.42  0.41 -0.38 -0.17]]\n",
            "b_ 3 :\n",
            "[[ 0.43]\n",
            " [-0.36]\n",
            " [ 0.51]\n",
            " [-0.23]\n",
            " [-0.08]\n",
            " [ 0.02]\n",
            " [-0.17]\n",
            " [ 0.57]\n",
            " [-0.69]\n",
            " [-0.22]]\n"
          ]
        }
      ]
    },
    {
      "cell_type": "code",
      "source": [
        "net.SGD(training_data, 30, 10, 3.0, test_data=test_data)"
      ],
      "metadata": {
        "colab": {
          "base_uri": "https://localhost:8080/"
        },
        "id": "FjuIoIvRh89T",
        "outputId": "9437d21a-ef09-47e1-fbf6-8ea93433963f"
      },
      "execution_count": 68,
      "outputs": [
        {
          "output_type": "stream",
          "name": "stderr",
          "text": [
            "<ipython-input-56-bc7c2ffb5df9>:91: RuntimeWarning: overflow encountered in square\n",
            "  return 1/np.cosh(z)**2\n",
            "<ipython-input-56-bc7c2ffb5df9>:91: RuntimeWarning: overflow encountered in cosh\n",
            "  return 1/np.cosh(z)**2\n"
          ]
        },
        {
          "output_type": "stream",
          "name": "stdout",
          "text": [
            "Epoch 0: 0.08516483516483517 / 1820\n",
            "Epoch 1: 0.08516483516483517 / 1820\n",
            "Epoch 2: 0.08516483516483517 / 1820\n",
            "Epoch 3: 0.08516483516483517 / 1820\n",
            "Epoch 4: 0.08516483516483517 / 1820\n",
            "Epoch 5: 0.08516483516483517 / 1820\n",
            "Epoch 6: 0.08516483516483517 / 1820\n",
            "Epoch 7: 0.08516483516483517 / 1820\n",
            "Epoch 8: 0.08516483516483517 / 1820\n",
            "Epoch 9: 0.08516483516483517 / 1820\n",
            "Epoch 10: 0.08516483516483517 / 1820\n",
            "Epoch 11: 0.08516483516483517 / 1820\n",
            "Epoch 12: 0.08516483516483517 / 1820\n",
            "Epoch 13: 0.08516483516483517 / 1820\n",
            "Epoch 14: 0.08516483516483517 / 1820\n",
            "Epoch 15: 0.08516483516483517 / 1820\n",
            "Epoch 16: 0.08516483516483517 / 1820\n",
            "Epoch 17: 0.08516483516483517 / 1820\n",
            "Epoch 18: 0.08516483516483517 / 1820\n",
            "Epoch 19: 0.08516483516483517 / 1820\n",
            "Epoch 20: 0.08516483516483517 / 1820\n",
            "Epoch 21: 0.08516483516483517 / 1820\n",
            "Epoch 22: 0.08516483516483517 / 1820\n",
            "Epoch 23: 0.08516483516483517 / 1820\n",
            "Epoch 24: 0.08516483516483517 / 1820\n",
            "Epoch 25: 0.08516483516483517 / 1820\n",
            "Epoch 26: 0.08516483516483517 / 1820\n",
            "Epoch 27: 0.08516483516483517 / 1820\n",
            "Epoch 28: 0.08516483516483517 / 1820\n",
            "Epoch 29: 0.08516483516483517 / 1820\n"
          ]
        }
      ]
    },
    {
      "cell_type": "code",
      "source": [
        "from sklearn.metrics import confusion_matrix\n",
        "y_train_numeric = np.array(y_train, dtype=int)\n",
        "# Forward propagate input to a network output\n",
        "def forward_propagate(net, row):\n",
        "    inputs = row\n",
        "    for i in range(net.num_layers-1):\n",
        "        new_inputs = []\n",
        "        for b, w in zip(net.biases[i], net.weights[i]):\n",
        "            activation = np.dot(w,inputs)+b\n",
        "            out = net.relu(activation)\n",
        "            new_inputs.append(out)\n",
        "        inputs = new_inputs\n",
        "    return new_inputs\n",
        "\n",
        "\n",
        "\n",
        "# Make a prediction with a network\n",
        "def predict(net, row):\n",
        "    outputs = forward_propagate(net, row)\n",
        "    return outputs.index(max(outputs))\n",
        "\n",
        "i=0\n",
        "X_train1=[]\n",
        "thresholdedData=[]\n",
        "\n",
        "for i in range(len(X_train)):\n",
        "    row=np.reshape(X_train[i], (1,4096))\n",
        "    thresholdedData = (row > 0) * 1.0\n",
        "    X_train1.extend(thresholdedData)\n",
        "\n",
        "\n",
        "for i in range(len(X_train1)):\n",
        "    prediction = predict(net,X_train1[i])\n",
        "    if (i==0):\n",
        "      predictTrain = np.array([[prediction]])\n",
        "    else:\n",
        "      predictTrain =np.append(predictTrain,[[prediction]],axis=0)\n",
        "\n",
        "print(confusion_matrix(y_train, predictTrain))\n",
        "\n",
        "\n",
        "\n",
        "i=-1\n",
        "for row in X_test:\n",
        "    i=i+1\n",
        "    prediction = predict(net, row)\n",
        "    if (i==0):\n",
        "      predictTest = np.array([[prediction]])\n",
        "    else:\n",
        "      predictTest =np.append(predictTest,[[prediction]],axis=0)\n",
        "\n",
        "print(confusion_matrix(y_test, predictTest))"
      ],
      "metadata": {
        "colab": {
          "base_uri": "https://localhost:8080/"
        },
        "id": "K1Z9YyEsiarc",
        "outputId": "6a9d768c-690f-4b80-9038-ed87b9f9b3ab"
      },
      "execution_count": 69,
      "outputs": [
        {
          "output_type": "stream",
          "name": "stdout",
          "text": [
            "[[  0   0   0   0   0   1   0   0 329   0]\n",
            " [  0   0   0   0   0   1   0   0 269   0]\n",
            " [  0   0   0   0   0   0   0   0 288   0]\n",
            " [  0   0   0   0   0   4   0   0 253   0]\n",
            " [  0   0   0   0   0   3   0   0 270   0]\n",
            " [  0   0   0   0   0   2   0   0 235   0]\n",
            " [  0   0   0   0   0   2   0   0 262   0]\n",
            " [  0   0   0   0   0   0   0   0 292   0]\n",
            " [  0   0   0   0   0   2   0   0 256   0]\n",
            " [  0   0   0   0   0   0   0   0 260   0]]\n",
            "[[  0   0   0   0   0   0   0   0 216   0]\n",
            " [  0   0   0   0   0   0   0   0 188   0]\n",
            " [  0   0   0   0   0   0   0   0 195   0]\n",
            " [  0   0   0   0   0   0   0   0 187   0]\n",
            " [  0   0   0   0   0   2   0   0 186   0]\n",
            " [  0   0   0   0   0   1   0   0 187   0]\n",
            " [  0   0   0   0   0   1   0   0 174   0]\n",
            " [  0   0   0   0   0   1   0   0 163   0]\n",
            " [  0   0   0   0   0   0   0   0 154   0]\n",
            " [  0   0   0   0   0   1   0   0 164   0]]\n"
          ]
        }
      ]
    }
  ]
}